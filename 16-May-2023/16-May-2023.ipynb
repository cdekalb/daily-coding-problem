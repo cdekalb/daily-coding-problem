{
 "cells": [
  {
   "cell_type": "markdown",
   "source": [
    "# Given an array of integers, return a new array such that each element at index i of the new array is the product of all the numbers in the original array except the one at i.\r\n",
    "## For example, if our input was [1, 2, 3, 4, 5], the expected output would be [120, 60, 40, 30, 24]. If our input was [3, 2, 1], the expected output would be [2, 3, 6].\r\n",
    "## Follow-up: what if you can't use division?"
   ],
   "metadata": {}
  },
  {
   "cell_type": "code",
   "execution_count": 7,
   "source": [
    "# First attempt\r\n",
    "\r\n",
    "a = [1,2,3,4,5]\r\n",
    "b = []\r\n",
    "\r\n",
    "for i in range(len(a)):\r\n",
    "    result = 1\r\n",
    "    for j in range(len(a)):\r\n",
    "        result = result * a[j]\r\n",
    "    b.append(result / a[i])\r\n",
    "b"
   ],
   "outputs": [
    {
     "output_type": "execute_result",
     "data": {
      "text/plain": [
       "[120.0, 60.0, 40.0, 30.0, 24.0]"
      ]
     },
     "metadata": {},
     "execution_count": 7
    }
   ],
   "metadata": {}
  },
  {
   "cell_type": "code",
   "execution_count": 19,
   "source": [
    "a = [1,2,3,4,5]\r\n",
    "b = []\r\n",
    "\r\n",
    "for i in range(len(a)):\r\n",
    "    removed_list = [a[x] for x,j in enumerate(a) if j != a[i]]\r\n",
    "    result = 1\r\n",
    "    for k in range(len(removed_list)):\r\n",
    "        result = result * removed_list[k]\r\n",
    "    b.append(result)\r\n",
    "b"
   ],
   "outputs": [
    {
     "output_type": "execute_result",
     "data": {
      "text/plain": [
       "[120, 60, 40, 30, 24]"
      ]
     },
     "metadata": {},
     "execution_count": 19
    }
   ],
   "metadata": {}
  }
 ],
 "metadata": {
  "orig_nbformat": 4,
  "language_info": {
   "name": "python",
   "version": "3.9.16",
   "mimetype": "text/x-python",
   "codemirror_mode": {
    "name": "ipython",
    "version": 3
   },
   "pygments_lexer": "ipython3",
   "nbconvert_exporter": "python",
   "file_extension": ".py"
  },
  "kernelspec": {
   "name": "python3",
   "display_name": "Python 3.9.16 64-bit ('daily-coding-problem': conda)"
  },
  "interpreter": {
   "hash": "cde208f670f71a74026de7e5cde915da1ff0ab125d1744002dbdc0f811c3af12"
  }
 },
 "nbformat": 4,
 "nbformat_minor": 2
}