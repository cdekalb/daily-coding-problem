{
 "cells": [
  {
   "cell_type": "markdown",
   "source": [
    "## Given a list of numbers and a number k, return whether any two numbers from the list add up to k.\r\n",
    "### For example, given [10, 15, 3, 7] and k of 17, return true since 10 + 7 is 17.\r\n",
    "### Bonus: Can you do this in one pass?\r\n"
   ],
   "metadata": {}
  },
  {
   "cell_type": "code",
   "execution_count": 6,
   "source": [
    "# First attempt\r\n",
    "\r\n",
    "num_list = [10, 15, 2, 7]\r\n",
    "k = 17\r\n",
    "return_value = False\r\n",
    "\r\n",
    "for i in range(len(num_list)):\r\n",
    "    for j in range(i, len(num_list)):\r\n",
    "        if(num_list[i] + num_list[j] == k):\r\n",
    "            return_value = True\r\n",
    "            pass\r\n",
    "print(return_value)\r\n"
   ],
   "outputs": [
    {
     "output_type": "stream",
     "name": "stdout",
     "text": [
      "True\n"
     ]
    }
   ],
   "metadata": {}
  },
  {
   "cell_type": "code",
   "execution_count": 8,
   "source": [
    "# Solution\r\n",
    "\r\n",
    "return_value = False\r\n",
    "num_set = set()\r\n",
    "\r\n",
    "for i in range(len(num_list)):\r\n",
    "    if((k - num_list[i]) in num_set):\r\n",
    "        return_value = True\r\n",
    "        pass\r\n",
    "    num_set.add(num_list[i])\r\n",
    "print(return_value)"
   ],
   "outputs": [
    {
     "output_type": "stream",
     "name": "stdout",
     "text": [
      "True\n"
     ]
    }
   ],
   "metadata": {}
  }
 ],
 "metadata": {
  "orig_nbformat": 4,
  "language_info": {
   "name": "python",
   "version": "3.9.16",
   "mimetype": "text/x-python",
   "codemirror_mode": {
    "name": "ipython",
    "version": 3
   },
   "pygments_lexer": "ipython3",
   "nbconvert_exporter": "python",
   "file_extension": ".py"
  },
  "kernelspec": {
   "name": "python3",
   "display_name": "Python 3.9.16 64-bit ('daily-coding-problem': conda)"
  },
  "interpreter": {
   "hash": "cde208f670f71a74026de7e5cde915da1ff0ab125d1744002dbdc0f811c3af12"
  }
 },
 "nbformat": 4,
 "nbformat_minor": 2
}