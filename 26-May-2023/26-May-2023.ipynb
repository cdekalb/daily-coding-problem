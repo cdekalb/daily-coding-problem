{
 "cells": [
  {
   "cell_type": "markdown",
   "source": [
    "# There exists a staircase with N steps, and you can climb up either 1 or 2 steps at a time. Given N, write a function that returns the number of unique ways you can climb the staircase. The order of the steps matters.\r\n",
    "\r\n",
    "### For example, if N is 4, then there are 5 unique ways:\r\n",
    "- 1, 1, 1, 1\r\n",
    "- 2, 1, 1\r\n",
    "- 1, 2, 1\r\n",
    "- 1, 1, 2\r\n",
    "- 2, 2\r\n",
    "\r\n",
    "### What if, instead of being able to climb 1 or 2 steps at a time, you could climb any number from a set of positive integers X? For example, if X = {1, 3, 5}, you could climb 1, 3, or 5 steps at a time.\r\n"
   ],
   "metadata": {}
  },
  {
   "cell_type": "markdown",
   "source": [
    "# First attempt\r\n",
    "\r\n",
    "### Create a tree of depth N, where each level consists of nodes with the values of X and each node is connected to every node at the depth immediately above and below its level. Run DFS and iterate a counter every time the total sum is equal to N.\r\n",
    "\r\n",
    "### Ran into issues of how to create a tree with names that differ from its values, to avoid issues where the nodes at each level have the same value."
   ],
   "metadata": {}
  },
  {
   "cell_type": "markdown",
   "source": [
    "# Correct Solution"
   ],
   "metadata": {}
  },
  {
   "cell_type": "code",
   "execution_count": 7,
   "source": [
    "N = 4\r\n",
    "num_steps = [1, 2]\r\n",
    "\r\n",
    "num_ways = [0] * (N+1)\r\n",
    "num_ways[0] = 1\r\n",
    "\r\n",
    "for num_stairs in range(1, N+1):\r\n",
    "    for step_size in num_steps:\r\n",
    "        if num_stairs >= step_size:\r\n",
    "            num_ways[num_stairs] += num_ways[num_stairs - step_size]"
   ],
   "outputs": [],
   "metadata": {}
  },
  {
   "cell_type": "code",
   "execution_count": 9,
   "source": [
    "def find_num_ways(stair_length, num_steps):\r\n",
    "    # Initialize vector to store num_ways for each stair_length\r\n",
    "    num_ways = [0] * (stair_length + 1)\r\n",
    "    num_ways[0] = 1\r\n",
    "\r\n",
    "    for num_stairs in range(1, stair_length + 1):\r\n",
    "        for step_size in num_steps:\r\n",
    "            if num_stairs >= step_size:\r\n",
    "                num_ways[num_stairs] += num_ways[num_stairs - step_size]\r\n",
    "\r\n",
    "    return num_ways[stair_length]"
   ],
   "outputs": [],
   "metadata": {}
  },
  {
   "cell_type": "code",
   "execution_count": 10,
   "source": [
    "find_num_ways(4, [1,2])"
   ],
   "outputs": [
    {
     "output_type": "execute_result",
     "data": {
      "text/plain": [
       "5"
      ]
     },
     "metadata": {},
     "execution_count": 10
    }
   ],
   "metadata": {}
  },
  {
   "cell_type": "markdown",
   "source": [
    "## Main Idea: Find the number of ways for every number of steps leading up to N, then add the values of N - num_steps (i.e., 3 and 2 in this example)"
   ],
   "metadata": {}
  }
 ],
 "metadata": {
  "orig_nbformat": 4,
  "language_info": {
   "name": "python",
   "version": "3.9.16",
   "mimetype": "text/x-python",
   "codemirror_mode": {
    "name": "ipython",
    "version": 3
   },
   "pygments_lexer": "ipython3",
   "nbconvert_exporter": "python",
   "file_extension": ".py"
  },
  "kernelspec": {
   "name": "python3",
   "display_name": "Python 3.9.16 64-bit ('daily-coding-problem': conda)"
  },
  "interpreter": {
   "hash": "cde208f670f71a74026de7e5cde915da1ff0ab125d1744002dbdc0f811c3af12"
  }
 },
 "nbformat": 4,
 "nbformat_minor": 2
}