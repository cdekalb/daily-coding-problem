{
 "cells": [
  {
   "cell_type": "markdown",
   "source": [
    "# Given a stream of elements too large to store in memory, pick a random element from the stream with uniform probability."
   ],
   "metadata": {}
  },
  {
   "cell_type": "markdown",
   "source": [
    "### Initial thoughts: Something regarding Monte Carlo probabilities?"
   ],
   "metadata": {}
  },
  {
   "cell_type": "markdown",
   "source": [
    "# Correct Solution"
   ],
   "metadata": {}
  },
  {
   "cell_type": "code",
   "execution_count": 1,
   "source": [
    "import random\r\n",
    "\r\n",
    "def choose_random_element(stream):\r\n",
    "    value = None\r\n",
    "    for i, e in enumerate(stream):\r\n",
    "        if i == 0:\r\n",
    "            value = e\r\n",
    "        elif random.randint(1, i + 1) == 1:\r\n",
    "            value = e\r\n",
    "    return value"
   ],
   "outputs": [],
   "metadata": {}
  }
 ],
 "metadata": {
  "orig_nbformat": 4,
  "language_info": {
   "name": "python",
   "version": "3.9.16",
   "mimetype": "text/x-python",
   "codemirror_mode": {
    "name": "ipython",
    "version": 3
   },
   "pygments_lexer": "ipython3",
   "nbconvert_exporter": "python",
   "file_extension": ".py"
  },
  "kernelspec": {
   "name": "python3",
   "display_name": "Python 3.9.16 64-bit ('daily-coding-problem': conda)"
  },
  "interpreter": {
   "hash": "cde208f670f71a74026de7e5cde915da1ff0ab125d1744002dbdc0f811c3af12"
  }
 },
 "nbformat": 4,
 "nbformat_minor": 2
}